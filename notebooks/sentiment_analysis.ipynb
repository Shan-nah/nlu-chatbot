{
 "cells": [
  {
   "cell_type": "code",
   "execution_count": null,
   "metadata": {},
   "outputs": [],
   "source": [
    "import pandas as pd\n",
    "from sklearn.feature_extraction.text import TfidfVectorizer\n",
    "from sklearn.naive_bayes import MultinomialNB\n",
    "import pickle\n",
    "\n",
    "# Load sentiment data\n",
    "df = pd.read_csv(\"../data/sentiment_data.csv\")\n",
    "\n",
    "# Convert text to numerical data\n",
    "vectorizer = TfidfVectorizer()\n",
    "X = vectorizer.fit_transform(df[\"text\"])\n",
    "y = df[\"sentiment\"]\n",
    "\n",
    "# Train classifier\n",
    "model = MultinomialNB()\n",
    "model.fit(X, y)\n",
    "\n",
    "# Save model\n",
    "with open(\"../models/sentiment_model.pkl\", \"wb\") as f:\n",
    "    pickle.dump((vectorizer, model), f)\n",
    "\n",
    "print(\"Sentiment model trained and saved!\")\n"
   ]
  }
 ],
 "metadata": {
  "language_info": {
   "name": "python"
  }
 },
 "nbformat": 4,
 "nbformat_minor": 2
}
