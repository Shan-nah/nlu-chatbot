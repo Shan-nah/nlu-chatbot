{
 "cells": [
  {
   "cell_type": "code",
   "execution_count": null,
   "metadata": {},
   "outputs": [],
   "source": [
    "import json\n",
    "from sklearn.feature_extraction.text import CountVectorizer\n",
    "from sklearn.linear_model import LogisticRegression\n",
    "\n",
    "# Load intent data\n",
    "with open(\"../data/intents.json\") as f:\n",
    "    intents = json.load(f)\n",
    "\n",
    "texts, labels = [], []\n",
    "for intent, phrases in intents.items():\n",
    "    for phrase in phrases:\n",
    "        texts.append(phrase)\n",
    "        labels.append(intent)\n",
    "\n",
    "# Convert text to numerical data\n",
    "vectorizer = CountVectorizer()\n",
    "X = vectorizer.fit_transform(texts)\n",
    "\n",
    "# Train classifier\n",
    "model = LogisticRegression()\n",
    "model.fit(X, labels)\n",
    "\n",
    "# Save model\n",
    "import pickle\n",
    "with open(\"../models/intent_model.pkl\", \"wb\") as f:\n",
    "    pickle.dump((vectorizer, model), f)\n",
    "\n",
    "print(\"Intent model trained and saved!\")\n"
   ]
  }
 ],
 "metadata": {
  "language_info": {
   "name": "python"
  }
 },
 "nbformat": 4,
 "nbformat_minor": 2
}
